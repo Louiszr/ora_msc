{
 "cells": [
  {
   "cell_type": "markdown",
   "metadata": {},
   "source": [
    "# New dataset for abundance analysis"
   ]
  },
  {
   "cell_type": "markdown",
   "metadata": {},
   "source": [
    "## Things to do\n",
    "* Separate samples into insulin/basal\n",
    "* For abundance cut-offs, averages the metabolite abundance across samples in the same group\n",
    "* For DE list, use paired t-tests to determine DE metabolites. Beware of the zeros.\n",
    "* Check how long the list is\n",
    "\n",
    "### Next step: paired t-tests"
   ]
  },
  {
   "cell_type": "markdown",
   "metadata": {},
   "source": [
    "## class definition of a sample"
   ]
  },
  {
   "cell_type": "code",
   "execution_count": 1,
   "metadata": {
    "collapsed": true
   },
   "outputs": [],
   "source": [
    "class MetabolomicsSample:\n",
    "    def __init__(self, sample_id, liver_fat, infusion, serum, patient_id):\n",
    "        '''\n",
    "        id, liver fat, insulin infusion, serum type, patient, compound:abundance\n",
    "        '''\n",
    "        self.sample_id = sample_id\n",
    "        self.liver_fat = liver_fat\n",
    "        self.infusion = infusion\n",
    "        self.serum = serum\n",
    "        self.patient_id = patient_id\n",
    "        self._data = dict()\n",
    "    \n",
    "    def __repr__(self):\n",
    "        return self.sample_id\n",
    "    \n",
    "    def getSampleInfo(self):\n",
    "        print(self.sample_id)\n",
    "        print(\"Liver fat(percentage):\", self.liver_fat)\n",
    "        print(\"Insulin infusion: \" + self.infusion)\n",
    "        print(\"Serum type: \" + self.serum)\n",
    "        print(\"Patient id: \" + self.patient_id)\n",
    "    \n",
    "    def addOmicsData(self, metabolite_id, value):\n",
    "        '''\n",
    "        Find the existing entry of the metabolite in the data dictionary, add value to the existing entry\n",
    "        If no existing entry can be found, create an entry for the metabolite\n",
    "        Values have to be in float!!\n",
    "        '''\n",
    "        if not isinstance(value, float):\n",
    "            print(\"Data values must be floats\")\n",
    "            return 0\n",
    "        self._data[metabolite_id] = self._data.get(metabolite_id, 0) + value\n",
    "        \n",
    "    def getOmicsData(self):\n",
    "        return self._data\n",
    "    \n",
    "    def clearOmicsData(self):\n",
    "        self._data = dict()\n",
    "        \n",
    "    def avgOmicsData(self, replicate):\n",
    "        '''\n",
    "        Average the omics data from two replicates\n",
    "        Return with a new object that has the average omics data\n",
    "        ***If one replicate has 0 for a metabolite, the average will be 0\n",
    "        \n",
    "        Could potentially add an attribute that states whether a study has been averaged or not\n",
    "        '''\n",
    "        if not isinstance(replicate, MetabolomicsSample):\n",
    "            print(\"Replicate must be a MetabolomicsSample sample\")\n",
    "            return 0\n",
    "        elif (replicate.liver_fat != self.liver_fat or \n",
    "              replicate.infusion != self.infusion or \n",
    "              replicate.serum != self.serum or \n",
    "              replicate.patient_id != self.patient_id):\n",
    "            print(\"Study info do not match\")\n",
    "            return 0\n",
    "        mean_study = MetabolomicsSample(self.sample_id, self.liver_fat, \n",
    "                                        self.infusion, self.serum, self.patient_id)\n",
    "        for metabolite in self.getOmicsData():\n",
    "            if self.getOmicsData()[metabolite] == 0 or replicate.getOmicsData()[metabolite] == 0:\n",
    "                avg_abundance = 0.0\n",
    "            else:\n",
    "                avg_abundance = (self.getOmicsData()[metabolite] + replicate.getOmicsData()[metabolite]) / 2\n",
    "            mean_study.addOmicsData(metabolite, avg_abundance)\n",
    "        return mean_study"
   ]
  },
  {
   "cell_type": "markdown",
   "metadata": {},
   "source": [
    "## MTBLS298\n",
    "242 Unique Chebi IDs"
   ]
  },
  {
   "cell_type": "code",
   "execution_count": 2,
   "metadata": {
    "collapsed": true
   },
   "outputs": [],
   "source": [
    "directory = '/data/zx2313/MTBLS298/' # The location of the maf file\n",
    "maf = directory + 'm_catheterization_study_metabolite_profiling_mass_spectrometry_v2_maf.tsv'\n",
    "sample_info = directory + 's_Catheterization study.txt'"
   ]
  },
  {
   "cell_type": "code",
   "execution_count": 3,
   "metadata": {
    "collapsed": false,
    "scrolled": true
   },
   "outputs": [],
   "source": [
    "# Initialise metabolomics samples\n",
    "met_studies = []\n",
    "with open(sample_info, 'r') as fh:\n",
    "    for line in fh.readlines()[1:]:\n",
    "        fields = line.rstrip().split('\\t')\n",
    "        sample_id = fields[8][1:-1]\n",
    "        liver_fat = int(fields[9][1:-1])\n",
    "        infusion = fields[16][1:-1]\n",
    "        serum = fields[19][1:-1]\n",
    "        patient_id = fields[22][1:-1]\n",
    "        met_studies.append(MetabolomicsSample(sample_id, liver_fat, infusion, serum, patient_id))"
   ]
  },
  {
   "cell_type": "code",
   "execution_count": null,
   "metadata": {
    "collapsed": false,
    "scrolled": true
   },
   "outputs": [],
   "source": [
    "for i in range(0, len(met_studies)):\n",
    "    print(len(met_studies[i].getOmicsData()))"
   ]
  },
  {
   "cell_type": "code",
   "execution_count": 11,
   "metadata": {
    "collapsed": false
   },
   "outputs": [
    {
     "name": "stdout",
     "output_type": "stream",
     "text": [
      "[112Vein_pl01_GGT3_rep1run1_291009_1, 112Vein_pl01_GGT3_rep1run2_291009_1, 112Vein_pl05_GGT3_rep1run1_291009_1, 112Vein_pl05_GGT3_rep1run2_291009_1, 112Vein_pl09_GGT3_rep1run1_291009_1, 112Vein_pl09_GGT3_rep1run2_291009_1, 112Vein_pl13_GGT3_rep1run1_291009_1, 112Vein_pl13_GGT3_rep1run2_291009_1, 112Vein_pl17_GGT3_rep1run1_291009_1, 112Vein_pl17_GGT3_rep1run2_291009_1, 112Vein_pl21_GGT3_rep1run1_291009_1, 112Vein_pl21_GGT3_rep1run2_291009_1, 112Vein_pl25_GGT3_rep1run1_291009_1, 112Vein_pl25_GGT3_rep1run2_291009_1, 112Vein_pl29_GGT3_rep1run1_291009_1, 112Vein_pl29_GGT3_rep1run2_291009_1, 112Vein_pl33_GGT3_rep1run1_291009_1, 112Vein_pl33_GGT3_rep1run2_291009_1, 112Vein_pl02_GGT3_rep1run1_291009_1, 112Vein_pl02_GGT3_rep1run2_291009_1, 112Vein_pl06_GGT3_rep1run1_291009_1, 112Vein_pl06_GGT3_rep1run2_291009_1, 112Vein_pl26_GGT3_rep1run1_291009_1, 112Vein_pl26_GGT3_rep1run2_291009_1, 112Vein_pl30_GGT3_rep1run1_291009_1, 112Vein_pl30_GGT3_rep1run2_291009_1, 112Vein_pl34_GGT3_rep1run1_291009_1, 112Vein_pl34_GGT3_rep1run2_291009_1, 112Vein_pl03_GGT3_rep1run1_291009_1, 112Vein_pl03_GGT3_rep1run2_291009_1, 112Vein_pl07_GGT3_rep1run1_291009_1, 112Vein_pl07_GGT3_rep1run2_291009_1, 112Vein_pl11_GGT3_rep1run1_291009_1, 112Vein_pl11_GGT3_rep1run2_291009_1, 112Vein_pl15_GGT3_rep1run1_291009_1, 112Vein_pl15_GGT3_rep1run2_291009_1, 112Vein_pl19_GGT3_rep1run1_291009_1, 112Vein_pl19_GGT3_rep1run2_291009_1, 112Vein_pl23_GGT3_rep1run1_291009_1, 112Vein_pl23_GGT3_rep1run2_291009_1, 112Vein_pl31_GGT3_rep1run1_291009_1, 112Vein_pl31_GGT3_rep1run2_291009_1, 112Vein_pl35_GGT3_rep1run1_291009_1, 112Vein_pl35_GGT3_rep1run2_291009_1, 112Vein_pl04_GGT3_rep1run1_291009_1, 112Vein_pl04_GGT3_rep1run2_291009_1, 112Vein_pl08_GGT3_rep1run1_291009_1, 112Vein_pl08_GGT3_rep1run2_291009_1, 112Vein_pl12_GGT3_rep1run1_291009_1, 112Vein_pl12_GGT3_rep1run2_291009_1, 112Vein_pl16_GGT3_rep1run1_291009_1, 112Vein_pl16_GGT3_rep1run2_291009_1, 112Vein_pl20_GGT3_rep1run1_291009_1, 112Vein_pl20_GGT3_rep1run2_291009_1, 112Vein_pl24_GGT3_rep1run1_291009_1, 112Vein_pl24_GGT3_rep1run2_291009_1, 112Vein_pl32_GGT3_rep1run1_291009_1, 112Vein_pl32_GGT3_rep1run2_291009_1, 112Vein_pl36_GGT3_rep1run1_291009_1, 112Vein_pl36_GGT3_rep1run2_291009_1]\n"
     ]
    }
   ],
   "source": [
    "print(met_studies)"
   ]
  },
  {
   "cell_type": "code",
   "execution_count": 10,
   "metadata": {
    "collapsed": false,
    "scrolled": true
   },
   "outputs": [],
   "source": [
    "with open(maf, 'r') as fh:\n",
    "    study_indices = []\n",
    "    lines = fh.readlines()\n",
    "    for line in lines[0:1]:\n",
    "        fields = line.rstrip().split('\\t')\n",
    "        #print(fields[0], fields[4], fields[11], fields[14], fields[16], fields[17], fields[21:81])# 0 4 11 14 16 17 21-80\n",
    "        for field in fields[21:81]:\n",
    "            sample_id = field[1:-5]\n",
    "            for index in range(0, len(met_studies)):\n",
    "                study = met_studies[index]\n",
    "                if sample_id == study.sample_id:\n",
    "                    study_indices.append(index)\n",
    "                    \n",
    "    for line in lines[1:]:\n",
    "        fields = line.rstrip().split('\\t')\n",
    "        database_id = fields[0][1:-1]\n",
    "        if not database_id.startswith('CHEBI'):\n",
    "            continue # If the metabolite is not chebi, go to the next line\n",
    "        else:\n",
    "            converted_id = conv_chebi_kegg(database_id, ch)\n",
    "        if not (converted_id.startswith('C') and len(converted_id) == 6):\n",
    "            continue # If the converted id is not kegg, go to the next line\n",
    "        for index in range(21, 81): #fields[21:81]:\n",
    "            study_index = study_indices[index - 21]\n",
    "            omics_value = float(fields[index][1:-1])\n",
    "            met_studies[study_index].addOmicsData(converted_id, omics_value)"
   ]
  },
  {
   "cell_type": "code",
   "execution_count": 12,
   "metadata": {
    "collapsed": true
   },
   "outputs": [],
   "source": [
    "met_studies.sort(key = lambda x: x.patient_id)"
   ]
  },
  {
   "cell_type": "code",
   "execution_count": 53,
   "metadata": {
    "collapsed": false,
    "scrolled": true
   },
   "outputs": [],
   "source": [
    "basal_studies = []\n",
    "insulin_studies = []\n",
    "for study in met_studies:\n",
    "    if study.infusion == 'Basal':\n",
    "        basal_studies.append(study)\n",
    "    elif study.infusion == 'Insulin':\n",
    "        insulin_studies.append(study)"
   ]
  },
  {
   "cell_type": "code",
   "execution_count": 54,
   "metadata": {
    "collapsed": false,
    "scrolled": true
   },
   "outputs": [
    {
     "name": "stdout",
     "output_type": "stream",
     "text": [
      "112Vein_pl01_GGT3_rep1run1_291009_1\n",
      "Liver fat(percentage): 65\n",
      "Insulin infusion: Basal\n",
      "Serum type: Artery\n",
      "Patient id: 1\n",
      "112Vein_pl01_GGT3_rep1run2_291009_1\n",
      "Liver fat(percentage): 65\n",
      "Insulin infusion: Basal\n",
      "Serum type: Artery\n",
      "Patient id: 1\n",
      "112Vein_pl02_GGT3_rep1run1_291009_1\n",
      "Liver fat(percentage): 65\n",
      "Insulin infusion: Basal\n",
      "Serum type: Vein\n",
      "Patient id: 1\n",
      "112Vein_pl02_GGT3_rep1run2_291009_1\n",
      "Liver fat(percentage): 65\n",
      "Insulin infusion: Basal\n",
      "Serum type: Vein\n",
      "Patient id: 1\n",
      "112Vein_pl05_GGT3_rep1run1_291009_1\n",
      "Liver fat(percentage): 70\n",
      "Insulin infusion: Basal\n",
      "Serum type: Artery\n",
      "Patient id: 2\n",
      "112Vein_pl05_GGT3_rep1run2_291009_1\n",
      "Liver fat(percentage): 70\n",
      "Insulin infusion: Basal\n",
      "Serum type: Artery\n",
      "Patient id: 2\n",
      "112Vein_pl06_GGT3_rep1run1_291009_1\n",
      "Liver fat(percentage): 70\n",
      "Insulin infusion: Basal\n",
      "Serum type: Vein\n",
      "Patient id: 2\n",
      "112Vein_pl06_GGT3_rep1run2_291009_1\n",
      "Liver fat(percentage): 70\n",
      "Insulin infusion: Basal\n",
      "Serum type: Vein\n",
      "Patient id: 2\n",
      "112Vein_pl09_GGT3_rep1run1_291009_1\n",
      "Liver fat(percentage): 25\n",
      "Insulin infusion: Basal\n",
      "Serum type: Artery\n",
      "Patient id: 3\n",
      "112Vein_pl09_GGT3_rep1run2_291009_1\n",
      "Liver fat(percentage): 25\n",
      "Insulin infusion: Basal\n",
      "Serum type: Artery\n",
      "Patient id: 3\n",
      "112Vein_pl13_GGT3_rep1run1_291009_1\n",
      "Liver fat(percentage): 80\n",
      "Insulin infusion: Basal\n",
      "Serum type: Artery\n",
      "Patient id: 4\n",
      "112Vein_pl13_GGT3_rep1run2_291009_1\n",
      "Liver fat(percentage): 80\n",
      "Insulin infusion: Basal\n",
      "Serum type: Artery\n",
      "Patient id: 4\n",
      "112Vein_pl17_GGT3_rep1run1_291009_1\n",
      "Liver fat(percentage): 70\n",
      "Insulin infusion: Basal\n",
      "Serum type: Artery\n",
      "Patient id: 5\n",
      "112Vein_pl17_GGT3_rep1run2_291009_1\n",
      "Liver fat(percentage): 70\n",
      "Insulin infusion: Basal\n",
      "Serum type: Artery\n",
      "Patient id: 5\n",
      "112Vein_pl21_GGT3_rep1run1_291009_1\n",
      "Liver fat(percentage): 50\n",
      "Insulin infusion: Basal\n",
      "Serum type: Artery\n",
      "Patient id: 6\n",
      "112Vein_pl21_GGT3_rep1run2_291009_1\n",
      "Liver fat(percentage): 50\n",
      "Insulin infusion: Basal\n",
      "Serum type: Artery\n",
      "Patient id: 6\n",
      "112Vein_pl25_GGT3_rep1run1_291009_1\n",
      "Liver fat(percentage): 5\n",
      "Insulin infusion: Basal\n",
      "Serum type: Artery\n",
      "Patient id: 7\n",
      "112Vein_pl25_GGT3_rep1run2_291009_1\n",
      "Liver fat(percentage): 5\n",
      "Insulin infusion: Basal\n",
      "Serum type: Artery\n",
      "Patient id: 7\n",
      "112Vein_pl26_GGT3_rep1run1_291009_1\n",
      "Liver fat(percentage): 5\n",
      "Insulin infusion: Basal\n",
      "Serum type: Vein\n",
      "Patient id: 7\n",
      "112Vein_pl26_GGT3_rep1run2_291009_1\n",
      "Liver fat(percentage): 5\n",
      "Insulin infusion: Basal\n",
      "Serum type: Vein\n",
      "Patient id: 7\n",
      "112Vein_pl29_GGT3_rep1run1_291009_1\n",
      "Liver fat(percentage): 30\n",
      "Insulin infusion: Basal\n",
      "Serum type: Artery\n",
      "Patient id: 8\n",
      "112Vein_pl29_GGT3_rep1run2_291009_1\n",
      "Liver fat(percentage): 30\n",
      "Insulin infusion: Basal\n",
      "Serum type: Artery\n",
      "Patient id: 8\n",
      "112Vein_pl30_GGT3_rep1run1_291009_1\n",
      "Liver fat(percentage): 30\n",
      "Insulin infusion: Basal\n",
      "Serum type: Vein\n",
      "Patient id: 8\n",
      "112Vein_pl30_GGT3_rep1run2_291009_1\n",
      "Liver fat(percentage): 30\n",
      "Insulin infusion: Basal\n",
      "Serum type: Vein\n",
      "Patient id: 8\n",
      "112Vein_pl33_GGT3_rep1run1_291009_1\n",
      "Liver fat(percentage): 70\n",
      "Insulin infusion: Basal\n",
      "Serum type: Artery\n",
      "Patient id: 9\n",
      "112Vein_pl33_GGT3_rep1run2_291009_1\n",
      "Liver fat(percentage): 70\n",
      "Insulin infusion: Basal\n",
      "Serum type: Artery\n",
      "Patient id: 9\n",
      "112Vein_pl34_GGT3_rep1run1_291009_1\n",
      "Liver fat(percentage): 70\n",
      "Insulin infusion: Basal\n",
      "Serum type: Vein\n",
      "Patient id: 9\n",
      "112Vein_pl34_GGT3_rep1run2_291009_1\n",
      "Liver fat(percentage): 70\n",
      "Insulin infusion: Basal\n",
      "Serum type: Vein\n",
      "Patient id: 9\n"
     ]
    }
   ],
   "source": [
    "for study in basal_studies:\n",
    "    study.getSampleInfo()"
   ]
  },
  {
   "cell_type": "code",
   "execution_count": 55,
   "metadata": {
    "collapsed": false,
    "scrolled": true
   },
   "outputs": [
    {
     "name": "stdout",
     "output_type": "stream",
     "text": [
      "112Vein_pl03_GGT3_rep1run1_291009_1\n",
      "Liver fat(percentage): 65\n",
      "Insulin infusion: Insulin\n",
      "Serum type: Artery\n",
      "Patient id: 1\n",
      "112Vein_pl03_GGT3_rep1run2_291009_1\n",
      "Liver fat(percentage): 65\n",
      "Insulin infusion: Insulin\n",
      "Serum type: Artery\n",
      "Patient id: 1\n",
      "112Vein_pl04_GGT3_rep1run1_291009_1\n",
      "Liver fat(percentage): 65\n",
      "Insulin infusion: Insulin\n",
      "Serum type: Vein\n",
      "Patient id: 1\n",
      "112Vein_pl04_GGT3_rep1run2_291009_1\n",
      "Liver fat(percentage): 65\n",
      "Insulin infusion: Insulin\n",
      "Serum type: Vein\n",
      "Patient id: 1\n",
      "112Vein_pl07_GGT3_rep1run1_291009_1\n",
      "Liver fat(percentage): 70\n",
      "Insulin infusion: Insulin\n",
      "Serum type: Artery\n",
      "Patient id: 2\n",
      "112Vein_pl07_GGT3_rep1run2_291009_1\n",
      "Liver fat(percentage): 70\n",
      "Insulin infusion: Insulin\n",
      "Serum type: Artery\n",
      "Patient id: 2\n",
      "112Vein_pl08_GGT3_rep1run1_291009_1\n",
      "Liver fat(percentage): 70\n",
      "Insulin infusion: Insulin\n",
      "Serum type: Vein\n",
      "Patient id: 2\n",
      "112Vein_pl08_GGT3_rep1run2_291009_1\n",
      "Liver fat(percentage): 70\n",
      "Insulin infusion: Insulin\n",
      "Serum type: Vein\n",
      "Patient id: 2\n",
      "112Vein_pl11_GGT3_rep1run1_291009_1\n",
      "Liver fat(percentage): 25\n",
      "Insulin infusion: Insulin\n",
      "Serum type: Artery\n",
      "Patient id: 3\n",
      "112Vein_pl11_GGT3_rep1run2_291009_1\n",
      "Liver fat(percentage): 25\n",
      "Insulin infusion: Insulin\n",
      "Serum type: Artery\n",
      "Patient id: 3\n",
      "112Vein_pl12_GGT3_rep1run1_291009_1\n",
      "Liver fat(percentage): 25\n",
      "Insulin infusion: Insulin\n",
      "Serum type: Vein\n",
      "Patient id: 3\n",
      "112Vein_pl12_GGT3_rep1run2_291009_1\n",
      "Liver fat(percentage): 25\n",
      "Insulin infusion: Insulin\n",
      "Serum type: Vein\n",
      "Patient id: 3\n",
      "112Vein_pl15_GGT3_rep1run1_291009_1\n",
      "Liver fat(percentage): 80\n",
      "Insulin infusion: Insulin\n",
      "Serum type: Artery\n",
      "Patient id: 4\n",
      "112Vein_pl15_GGT3_rep1run2_291009_1\n",
      "Liver fat(percentage): 80\n",
      "Insulin infusion: Insulin\n",
      "Serum type: Artery\n",
      "Patient id: 4\n",
      "112Vein_pl16_GGT3_rep1run1_291009_1\n",
      "Liver fat(percentage): 80\n",
      "Insulin infusion: Insulin\n",
      "Serum type: Vein\n",
      "Patient id: 4\n",
      "112Vein_pl16_GGT3_rep1run2_291009_1\n",
      "Liver fat(percentage): 80\n",
      "Insulin infusion: Insulin\n",
      "Serum type: Vein\n",
      "Patient id: 4\n",
      "112Vein_pl19_GGT3_rep1run1_291009_1\n",
      "Liver fat(percentage): 70\n",
      "Insulin infusion: Insulin\n",
      "Serum type: Artery\n",
      "Patient id: 5\n",
      "112Vein_pl19_GGT3_rep1run2_291009_1\n",
      "Liver fat(percentage): 70\n",
      "Insulin infusion: Insulin\n",
      "Serum type: Artery\n",
      "Patient id: 5\n",
      "112Vein_pl20_GGT3_rep1run1_291009_1\n",
      "Liver fat(percentage): 70\n",
      "Insulin infusion: Insulin\n",
      "Serum type: Vein\n",
      "Patient id: 5\n",
      "112Vein_pl20_GGT3_rep1run2_291009_1\n",
      "Liver fat(percentage): 70\n",
      "Insulin infusion: Insulin\n",
      "Serum type: Vein\n",
      "Patient id: 5\n",
      "112Vein_pl23_GGT3_rep1run1_291009_1\n",
      "Liver fat(percentage): 50\n",
      "Insulin infusion: Insulin\n",
      "Serum type: Artery\n",
      "Patient id: 6\n",
      "112Vein_pl23_GGT3_rep1run2_291009_1\n",
      "Liver fat(percentage): 50\n",
      "Insulin infusion: Insulin\n",
      "Serum type: Artery\n",
      "Patient id: 6\n",
      "112Vein_pl24_GGT3_rep1run1_291009_1\n",
      "Liver fat(percentage): 50\n",
      "Insulin infusion: Insulin\n",
      "Serum type: Vein\n",
      "Patient id: 6\n",
      "112Vein_pl24_GGT3_rep1run2_291009_1\n",
      "Liver fat(percentage): 50\n",
      "Insulin infusion: Insulin\n",
      "Serum type: Vein\n",
      "Patient id: 6\n",
      "112Vein_pl31_GGT3_rep1run1_291009_1\n",
      "Liver fat(percentage): 30\n",
      "Insulin infusion: Insulin\n",
      "Serum type: Artery\n",
      "Patient id: 8\n",
      "112Vein_pl31_GGT3_rep1run2_291009_1\n",
      "Liver fat(percentage): 30\n",
      "Insulin infusion: Insulin\n",
      "Serum type: Artery\n",
      "Patient id: 8\n",
      "112Vein_pl32_GGT3_rep1run1_291009_1\n",
      "Liver fat(percentage): 30\n",
      "Insulin infusion: Insulin\n",
      "Serum type: Vein\n",
      "Patient id: 8\n",
      "112Vein_pl32_GGT3_rep1run2_291009_1\n",
      "Liver fat(percentage): 30\n",
      "Insulin infusion: Insulin\n",
      "Serum type: Vein\n",
      "Patient id: 8\n",
      "112Vein_pl35_GGT3_rep1run1_291009_1\n",
      "Liver fat(percentage): 70\n",
      "Insulin infusion: Insulin\n",
      "Serum type: Artery\n",
      "Patient id: 9\n",
      "112Vein_pl35_GGT3_rep1run2_291009_1\n",
      "Liver fat(percentage): 70\n",
      "Insulin infusion: Insulin\n",
      "Serum type: Artery\n",
      "Patient id: 9\n",
      "112Vein_pl36_GGT3_rep1run1_291009_1\n",
      "Liver fat(percentage): 70\n",
      "Insulin infusion: Insulin\n",
      "Serum type: Vein\n",
      "Patient id: 9\n",
      "112Vein_pl36_GGT3_rep1run2_291009_1\n",
      "Liver fat(percentage): 70\n",
      "Insulin infusion: Insulin\n",
      "Serum type: Vein\n",
      "Patient id: 9\n"
     ]
    }
   ],
   "source": [
    "for study in insulin_studies:\n",
    "    study.getSampleInfo()"
   ]
  },
  {
   "cell_type": "code",
   "execution_count": 56,
   "metadata": {
    "collapsed": false
   },
   "outputs": [],
   "source": [
    "avg_basal_studies = avg_replicates_study(basal_studies)\n",
    "avg_insulin_studies = avg_replicates_study(insulin_studies)"
   ]
  },
  {
   "cell_type": "code",
   "execution_count": 70,
   "metadata": {
    "collapsed": false
   },
   "outputs": [
    {
     "name": "stdout",
     "output_type": "stream",
     "text": [
      "1\n",
      "1\n",
      "2\n",
      "2\n",
      "3\n",
      "4\n",
      "5\n",
      "6\n",
      "8\n",
      "8\n",
      "9\n",
      "9\n"
     ]
    }
   ],
   "source": [
    "for study in avg_basal_studies:\n",
    "    print(study.patient_id)"
   ]
  },
  {
   "cell_type": "code",
   "execution_count": 71,
   "metadata": {
    "collapsed": false
   },
   "outputs": [
    {
     "name": "stdout",
     "output_type": "stream",
     "text": [
      "1\n",
      "1\n",
      "2\n",
      "2\n",
      "3\n",
      "4\n",
      "5\n",
      "6\n",
      "8\n",
      "8\n",
      "9\n",
      "9\n"
     ]
    }
   ],
   "source": [
    "for study in avg_insulin_studies:\n",
    "    print(study.patient_id)"
   ]
  },
  {
   "cell_type": "code",
   "execution_count": 65,
   "metadata": {
    "collapsed": false
   },
   "outputs": [],
   "source": [
    "avg_basal_studies = avg_basal_studies[:8] + avg_basal_studies[10:]"
   ]
  },
  {
   "cell_type": "code",
   "execution_count": 66,
   "metadata": {
    "collapsed": false
   },
   "outputs": [],
   "source": [
    "avg_insulin_studies = avg_insulin_studies[:5] + avg_insulin_studies[6:7] + avg_insulin_studies[8:9] + avg_insulin_studies[10:11] + avg_insulin_studies[12:]"
   ]
  },
  {
   "cell_type": "markdown",
   "metadata": {},
   "source": [
    "## Paired t-tests\n",
    "- Conditions: basal vs insulin\n",
    "- samples from the same patient and serum were paired together (12 vs 12)\n",
    "- If a zero abundance is present for one metabolite, its abundance in the related sample will be also removed and excluded from the paired t-tests\n",
    "- CONCERN: Small sample size (< 8) for Wilcoxon tests??\n",
    "- before multiple-testing corrections: 11 DE metabolites\n",
    "- after multiple-testing corrections: 1 DE metabolite"
   ]
  },
  {
   "cell_type": "code",
   "execution_count": 80,
   "metadata": {
    "collapsed": true
   },
   "outputs": [],
   "source": [
    "import scipy.stats\n",
    "# FDR\n",
    "from rpy2.robjects.packages import importr\n",
    "from rpy2.robjects.vectors import FloatVector"
   ]
  },
  {
   "cell_type": "code",
   "execution_count": 81,
   "metadata": {
    "collapsed": false,
    "scrolled": true
   },
   "outputs": [
    {
     "name": "stderr",
     "output_type": "stream",
     "text": [
      "/project/soft/linux64/anaconda/Anaconda3-2.4.1-Linux-x86_64/lib/python3.5/site-packages/numpy/core/_methods.py:82: RuntimeWarning: Degrees of freedom <= 0 for slice\n",
      "  warnings.warn(\"Degrees of freedom <= 0 for slice\", RuntimeWarning)\n"
     ]
    }
   ],
   "source": [
    "# go through one metabolite in all samples\n",
    "# do the same thing with the other condition\n",
    "# if the paired t-test is significant, add the metabolite to the DE list\n",
    "# if any zero is present in one sample, remove the related data in the other condition\n",
    "p_cutoff = 0.05\n",
    "p_vals = []\n",
    "tested_metabolites = []\n",
    "all_metabolites = list(avg_basal_studies[0].getOmicsData().keys())\n",
    "for metabolite in all_metabolites:\n",
    "    b_study_paired_abun = []\n",
    "    i_study_paired_abun = []\n",
    "    for index in range(0, len(avg_basal_studies)):\n",
    "        b_study = avg_basal_studies[index]\n",
    "        i_study = avg_insulin_studies[index]\n",
    "        if b_study.getOmicsData()[metabolite] != 0.0 and i_study.getOmicsData()[metabolite] != 0.0:\n",
    "            # if neither of the abundance is zero, add the data points to the paired list\n",
    "            b_study_paired_abun.append(b_study.getOmicsData()[metabolite])\n",
    "            i_study_paired_abun.append(i_study.getOmicsData()[metabolite])\n",
    "    #print(len(b_study_paired_abun), len(i_study_paired_abun))\n",
    "    p_val = scipy.stats.ttest_rel(b_study_paired_abun, i_study_paired_abun)[1]\n",
    "    if p_val > 0: # remove nan in the results\n",
    "        p_vals.append(p_val)\n",
    "        tested_metabolites.append(metabolite)\n",
    "p_vals = list(importr('stats').p_adjust(FloatVector(p_vals), method = 'BH'))"
   ]
  },
  {
   "cell_type": "code",
   "execution_count": 83,
   "metadata": {
    "collapsed": false
   },
   "outputs": [
    {
     "name": "stdout",
     "output_type": "stream",
     "text": [
      "0.006929651989095781\n"
     ]
    }
   ],
   "source": [
    "for k in p_vals:\n",
    "    if k < 0.05:\n",
    "        print(k)"
   ]
  },
  {
   "cell_type": "code",
   "execution_count": 68,
   "metadata": {
    "collapsed": false
   },
   "outputs": [
    {
     "data": {
      "text/plain": [
       "[C00233,\n",
       " C00022,\n",
       " C16439,\n",
       " C02287,\n",
       " C00219,\n",
       " C01733,\n",
       " C00302,\n",
       " C00042,\n",
       " C00164,\n",
       " C08261,\n",
       " C01530]"
      ]
     },
     "execution_count": 68,
     "metadata": {},
     "output_type": "execute_result"
    }
   ],
   "source": [
    "de_metabolites"
   ]
  },
  {
   "cell_type": "markdown",
   "metadata": {},
   "source": [
    "## Conversion: Chebi to KEGG"
   ]
  },
  {
   "cell_type": "code",
   "execution_count": 39,
   "metadata": {
    "collapsed": true
   },
   "outputs": [],
   "source": [
    "from bioservices import KEGG, ChEBI\n",
    "import ora_msc"
   ]
  },
  {
   "cell_type": "code",
   "execution_count": 40,
   "metadata": {
    "collapsed": false
   },
   "outputs": [],
   "source": [
    "ch = ChEBI()"
   ]
  },
  {
   "cell_type": "code",
   "execution_count": 41,
   "metadata": {
    "collapsed": true
   },
   "outputs": [],
   "source": [
    "kegg = KEGG()\n",
    "kegg.organism = 'hsa'"
   ]
  },
  {
   "cell_type": "code",
   "execution_count": 42,
   "metadata": {
    "collapsed": true
   },
   "outputs": [],
   "source": [
    "hsa_pathways = kegg.pathwayIds\n",
    "pathway_2_compounds = dict()\n",
    "for pathway in hsa_pathways:\n",
    "    parsed_output = kegg.parse(kegg.get(pathway)) # parsed_ouput has lots of information about the pathway\n",
    "    try:\n",
    "        compounds = set(parsed_output['COMPOUND'].keys())\n",
    "        pathway_2_compounds[pathway] = compounds\n",
    "    except KeyError: # Some pathways do not have defined compounds\n",
    "        #name = parsed_output['NAME']\n",
    "        #print(pathway, name)\n",
    "        pass"
   ]
  },
  {
   "cell_type": "code",
   "execution_count": 72,
   "metadata": {
    "collapsed": false,
    "scrolled": true
   },
   "outputs": [
    {
     "name": "stdout",
     "output_type": "stream",
     "text": [
      "(0.35346546385164174, 'path:hsa00010', 4)\n",
      "(0.14944764664154689, 'path:hsa00020', 7)\n",
      "(0.10185185185185021, 'path:hsa00030', 1)\n",
      "(0.35346546385164174, 'path:hsa00040', 4)\n",
      "(0.35346546385164174, 'path:hsa00053', 4)\n",
      "(0.48359321403234107, 'path:hsa00061', 6)\n",
      "(0.10185185185185021, 'path:hsa00072', 1)\n",
      "(0.19418483904460709, 'path:hsa00190', 2)\n",
      "(0.14944764664154689, 'path:hsa00250', 7)\n",
      "(0.35346546385164174, 'path:hsa00260', 4)\n",
      "(0.19418483904460709, 'path:hsa00270', 2)\n",
      "(0.0095188646590510222, 'path:hsa00280', 2)\n",
      "(0.050832276718370019, 'path:hsa00290', 4)\n",
      "(0.19418483904460709, 'path:hsa00310', 2)\n",
      "(0.42184892440580191, 'path:hsa00330', 5)\n",
      "(0.047549790447018597, 'path:hsa00350', 9)\n",
      "(0.14944764664154689, 'path:hsa00360', 7)\n",
      "(0.19418483904460709, 'path:hsa00430', 2)\n",
      "(0.27780716706829001, 'path:hsa00440', 3)\n",
      "(0.10185185185185021, 'path:hsa00590', 1)\n",
      "(0.19418483904460709, 'path:hsa00591', 2)\n",
      "(0.07993162163504057, 'path:hsa00620', 5)\n",
      "(0.14944764664154689, 'path:hsa00630', 7)\n",
      "(0.050832276718370019, 'path:hsa00640', 4)\n",
      "(0.06397134578417063, 'path:hsa00650', 10)\n",
      "(0.19418483904460709, 'path:hsa00730', 2)\n",
      "(0.07993162163504057, 'path:hsa00760', 5)\n",
      "(0.27780716706829001, 'path:hsa00770', 3)\n",
      "(0.10185185185185021, 'path:hsa00900', 1)\n",
      "(0.10185185185185021, 'path:hsa00920', 1)\n",
      "(0.07993162163504057, 'path:hsa01040', 5)\n",
      "(0.27780716706829001, 'path:hsa04024', 3)\n",
      "(0.19418483904460709, 'path:hsa04066', 2)\n",
      "(0.10185185185185021, 'path:hsa04152', 1)\n",
      "(0.10185185185185021, 'path:hsa04216', 1)\n",
      "(0.10185185185185021, 'path:hsa04217', 1)\n",
      "(0.10185185185185021, 'path:hsa04270', 1)\n",
      "(0.10185185185185021, 'path:hsa04611', 1)\n",
      "(0.10185185185185021, 'path:hsa04664', 1)\n",
      "(0.10185185185185021, 'path:hsa04666', 1)\n",
      "(0.27780716706829001, 'path:hsa04723', 3)\n",
      "(0.19418483904460709, 'path:hsa04726', 2)\n",
      "(0.27780716706829001, 'path:hsa04727', 3)\n",
      "(0.10185185185185021, 'path:hsa04730', 1)\n",
      "(0.19418483904460709, 'path:hsa04750', 2)\n",
      "(0.10185185185185021, 'path:hsa04911', 1)\n",
      "(0.10185185185185021, 'path:hsa04912', 1)\n",
      "(0.19418483904460709, 'path:hsa04913', 2)\n",
      "(0.10185185185185021, 'path:hsa04921', 1)\n",
      "(0.14944764664154689, 'path:hsa04922', 7)\n",
      "(0.19418483904460709, 'path:hsa04923', 2)\n",
      "(0.19418483904460709, 'path:hsa04925', 2)\n",
      "(0.10185185185185021, 'path:hsa04930', 1)\n",
      "(0.10185185185185021, 'path:hsa04931', 1)\n",
      "(0.10185185185185021, 'path:hsa05140', 1)\n",
      "(0.10185185185185021, 'path:hsa05146', 1)\n",
      "(0.22818689915533621, 'path:hsa05230', 9)\n"
     ]
    }
   ],
   "source": [
    "for pathway in hsa_pathways:\n",
    "    result = ora_msc.ora(set(de_metabolites), pathway, set(avg_basal_studies[0].getOmicsData().keys()), pathway_2_compounds)\n",
    "    if len(result) == 3:\n",
    "        print(result)"
   ]
  },
  {
   "cell_type": "code",
   "execution_count": 5,
   "metadata": {
    "collapsed": true
   },
   "outputs": [],
   "source": [
    "def conv_chebi_kegg(chebi_id, chebi_instance):\n",
    "    '''\n",
    "    converting chebi ids to kegg ids\n",
    "    if the chebi entry does not have database links\n",
    "    return the ascii name of that entry\n",
    "    '''\n",
    "    res = chebi_instance.getCompleteEntity(chebi_id)\n",
    "    try:\n",
    "        for link in res.DatabaseLinks:\n",
    "            if link.type == 'KEGG COMPOUND accession':\n",
    "                kegg_id = link.data\n",
    "                return kegg_id\n",
    "    except AttributeError:\n",
    "        pass\n",
    "    return res.chebiAsciiName\n",
    "\n",
    "def avg_replicates_study(repstudies):\n",
    "    '''\n",
    "    Only works when there are exactly two replicates\n",
    "    Must sort the input list by patient id first!!!\n",
    "    '''\n",
    "    avg_studies = []\n",
    "    for i in range(0, len(repstudies), 2):\n",
    "        study_rep1 = repstudies[i]\n",
    "        study_rep2 = repstudies[i+1]\n",
    "        study_avg = study_rep1.avgOmicsData(study_rep2)\n",
    "        avg_studies.append(study_avg)\n",
    "    return avg_studies"
   ]
  }
 ],
 "metadata": {
  "anaconda-cloud": {},
  "kernelspec": {
   "display_name": "Python 3",
   "language": "python",
   "name": "python3"
  },
  "language_info": {
   "codemirror_mode": {
    "name": "ipython",
    "version": 3
   },
   "file_extension": ".py",
   "mimetype": "text/x-python",
   "name": "python",
   "nbconvert_exporter": "python",
   "pygments_lexer": "ipython3",
   "version": "3.5.1"
  }
 },
 "nbformat": 4,
 "nbformat_minor": 1
}
