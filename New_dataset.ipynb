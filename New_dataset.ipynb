{
 "cells": [
  {
   "cell_type": "markdown",
   "metadata": {},
   "source": [
    "# New dataset for abundance analysis"
   ]
  },
  {
   "cell_type": "markdown",
   "metadata": {},
   "source": [
    "## Things to do\n",
    "* Separate samples into insulin/basal\n",
    "* For abundance cut-offs, averages the metabolite abundance across samples in the same group\n",
    "* For DE list, use paired t-tests to determine DE metabolites. Beware of the zeros.\n",
    "* Check how long the list is\n",
    "\n",
    "### Next step: paired t-tests"
   ]
  },
  {
   "cell_type": "markdown",
   "metadata": {},
   "source": [
    "## class definition of a sample"
   ]
  },
  {
   "cell_type": "code",
   "execution_count": 5,
   "metadata": {
    "collapsed": true
   },
   "outputs": [],
   "source": [
    "class MetabolomicsSample:\n",
    "    def __init__(self, sample_id, liver_fat, infusion, serum, patient_id):\n",
    "        '''\n",
    "        id, liver fat, insulin infusion, serum type, patient, compound:abundance\n",
    "        '''\n",
    "        self.sample_id = sample_id\n",
    "        self.liver_fat = liver_fat\n",
    "        self.infusion = infusion\n",
    "        self.serum = serum\n",
    "        self.patient_id = patient_id\n",
    "        self._data = dict()\n",
    "    \n",
    "    def __repr__(self):\n",
    "        return self.sample_id\n",
    "    \n",
    "    def getSampleInfo(self):\n",
    "        print(self.sample_id)\n",
    "        print(\"Liver fat(percentage):\", self.liver_fat)\n",
    "        print(\"Insulin infusion: \" + self.infusion)\n",
    "        print(\"Serum type: \" + self.serum)\n",
    "        print(\"Patient id: \" + self.patient_id)\n",
    "    \n",
    "    def addOmicsData(self, metabolite_id, value):\n",
    "        '''\n",
    "        Find the existing entry of the metabolite in the data dictionary, add value to the existing entry\n",
    "        If no existing entry can be found, create an entry for the metabolite\n",
    "        Values have to be in float!!\n",
    "        '''\n",
    "        if not isinstance(value, float):\n",
    "            print(\"Data values must be floats\")\n",
    "            return 0\n",
    "        self._data[metabolite_id] = self._data.get(metabolite_id, 0) + value\n",
    "        \n",
    "    def getOmicsData(self):\n",
    "        return self._data\n",
    "    \n",
    "    def clearOmicsData(self):\n",
    "        self._data = dict()\n",
    "        \n",
    "    def avgOmicsData(self, replicate):\n",
    "        '''\n",
    "        Average the omics data from two replicates\n",
    "        Return with a new object that has the average omics data\n",
    "        ***If one replicate has 0 for a metabolite, the average will be 0\n",
    "        \n",
    "        Could potentially add an attribute that states whether a study has been averaged or not\n",
    "        '''\n",
    "        if not isinstance(replicate, MetabolomicsSample):\n",
    "            print(\"Replicate must be a MetabolomicsSample sample\")\n",
    "            return 0\n",
    "        elif (replicate.liver_fat != self.liver_fat or \n",
    "              replicate.infusion != self.infusion or \n",
    "              replicate.serum != self.serum or \n",
    "              replicate.patient_id != self.patient_id):\n",
    "            print(\"Study info do not match\")\n",
    "            return 0\n",
    "        mean_study = MetabolomicsSample(self.sample_id, self.liver_fat, \n",
    "                                        self.infusion, self.serum, self.patient_id)\n",
    "        for metabolite in self.getOmicsData():\n",
    "            if self.getOmicsData()[metabolite] == 0 or replicate.getOmicsData()[metabolite] == 0:\n",
    "                avg_abundance = 0.0\n",
    "            else:\n",
    "                avg_abundance = (self.getOmicsData()[metabolite] + replicate.getOmicsData()[metabolite]) / 2\n",
    "            mean_study.addOmicsData(metabolite, avg_abundance)\n",
    "        return mean_study"
   ]
  },
  {
   "cell_type": "markdown",
   "metadata": {},
   "source": [
    "## MTBLS298\n",
    "242 Unique Chebi IDs"
   ]
  },
  {
   "cell_type": "code",
   "execution_count": 6,
   "metadata": {
    "collapsed": true
   },
   "outputs": [],
   "source": [
    "directory = '/data/zx2313/MTBLS298/' # The location of the maf file\n",
    "maf = directory + 'm_catheterization_study_metabolite_profiling_mass_spectrometry_v2_maf.tsv'\n",
    "sample_info = directory + 's_Catheterization study.txt'"
   ]
  },
  {
   "cell_type": "code",
   "execution_count": 7,
   "metadata": {
    "collapsed": false,
    "scrolled": true
   },
   "outputs": [],
   "source": [
    "# Initialise metabolomics samples\n",
    "met_studies = []\n",
    "with open(sample_info, 'r') as fh:\n",
    "    for line in fh.readlines()[1:]:\n",
    "        fields = line.rstrip().split('\\t')\n",
    "        sample_id = fields[8][1:-1]\n",
    "        liver_fat = int(fields[9][1:-1])\n",
    "        infusion = fields[16][1:-1]\n",
    "        serum = fields[19][1:-1]\n",
    "        patient_id = fields[22][1:-1]\n",
    "        met_studies.append(MetabolomicsSample(sample_id, liver_fat, infusion, serum, patient_id))"
   ]
  },
  {
   "cell_type": "code",
   "execution_count": null,
   "metadata": {
    "collapsed": false,
    "scrolled": true
   },
   "outputs": [],
   "source": [
    "for i in range(0, len(met_studies)):\n",
    "    print(len(met_studies[i].getOmicsData()))"
   ]
  },
  {
   "cell_type": "code",
   "execution_count": null,
   "metadata": {
    "collapsed": false
   },
   "outputs": [],
   "source": [
    "print(met_studies)"
   ]
  },
  {
   "cell_type": "code",
   "execution_count": 8,
   "metadata": {
    "collapsed": false,
    "scrolled": true
   },
   "outputs": [],
   "source": [
    "with open(maf, 'r') as fh:\n",
    "    study_indices = []\n",
    "    lines = fh.readlines()\n",
    "    for line in lines[0:1]:\n",
    "        fields = line.rstrip().split('\\t')\n",
    "        #print(fields[0], fields[4], fields[11], fields[14], fields[16], fields[17], fields[21:81])# 0 4 11 14 16 17 21-80\n",
    "        for field in fields[21:81]:\n",
    "            sample_id = field[1:-5]\n",
    "            for index in range(0, len(met_studies)):\n",
    "                study = met_studies[index]\n",
    "                if sample_id == study.sample_id:\n",
    "                    study_indices.append(index)\n",
    "                    \n",
    "    for line in lines[1:]:\n",
    "        fields = line.rstrip().split('\\t')\n",
    "        database_id = fields[0][1:-1]\n",
    "        if not database_id.startswith('CHEBI'):\n",
    "            continue # If the metabolite is not chebi, go to the next line\n",
    "        else:\n",
    "            converted_id = conv_chebi_kegg(database_id, ch)\n",
    "        if not (converted_id.startswith('C') and len(converted_id) == 6):\n",
    "            continue # If the converted id is not kegg, go to the next line\n",
    "        for index in range(21, 81): #fields[21:81]:\n",
    "            study_index = study_indices[index - 21]\n",
    "            omics_value = float(fields[index][1:-1])\n",
    "            met_studies[study_index].addOmicsData(converted_id, omics_value)"
   ]
  },
  {
   "cell_type": "code",
   "execution_count": 9,
   "metadata": {
    "collapsed": true
   },
   "outputs": [],
   "source": [
    "met_studies.sort(key = lambda x: x.patient_id)"
   ]
  },
  {
   "cell_type": "code",
   "execution_count": 10,
   "metadata": {
    "collapsed": false,
    "scrolled": true
   },
   "outputs": [],
   "source": [
    "basal_studies = []\n",
    "insulin_studies = []\n",
    "for study in met_studies:\n",
    "    if study.infusion == 'Basal':\n",
    "        basal_studies.append(study)\n",
    "    elif study.infusion == 'Insulin':\n",
    "        insulin_studies.append(study)"
   ]
  },
  {
   "cell_type": "code",
   "execution_count": null,
   "metadata": {
    "collapsed": false,
    "scrolled": true
   },
   "outputs": [],
   "source": [
    "for study in basal_studies:\n",
    "    study.getSampleInfo()"
   ]
  },
  {
   "cell_type": "code",
   "execution_count": null,
   "metadata": {
    "collapsed": false,
    "scrolled": true
   },
   "outputs": [],
   "source": [
    "for study in insulin_studies:\n",
    "    study.getSampleInfo()"
   ]
  },
  {
   "cell_type": "code",
   "execution_count": 11,
   "metadata": {
    "collapsed": false
   },
   "outputs": [],
   "source": [
    "avg_basal_studies = avg_replicates_study(basal_studies)\n",
    "avg_insulin_studies = avg_replicates_study(insulin_studies)"
   ]
  },
  {
   "cell_type": "code",
   "execution_count": 15,
   "metadata": {
    "collapsed": false
   },
   "outputs": [
    {
     "name": "stdout",
     "output_type": "stream",
     "text": [
      "1\n",
      "1\n",
      "2\n",
      "2\n",
      "3\n",
      "4\n",
      "5\n",
      "6\n",
      "8\n",
      "8\n",
      "9\n",
      "9\n"
     ]
    }
   ],
   "source": [
    "for study in avg_basal_studies:\n",
    "    print(study.patient_id)"
   ]
  },
  {
   "cell_type": "code",
   "execution_count": 16,
   "metadata": {
    "collapsed": false
   },
   "outputs": [
    {
     "name": "stdout",
     "output_type": "stream",
     "text": [
      "1\n",
      "1\n",
      "2\n",
      "2\n",
      "3\n",
      "4\n",
      "5\n",
      "6\n",
      "8\n",
      "8\n",
      "9\n",
      "9\n"
     ]
    }
   ],
   "source": [
    "for study in avg_insulin_studies:\n",
    "    print(study.patient_id)"
   ]
  },
  {
   "cell_type": "code",
   "execution_count": 12,
   "metadata": {
    "collapsed": false
   },
   "outputs": [],
   "source": [
    "avg_basal_studies = avg_basal_studies[:8] + avg_basal_studies[10:]"
   ]
  },
  {
   "cell_type": "code",
   "execution_count": 13,
   "metadata": {
    "collapsed": false
   },
   "outputs": [],
   "source": [
    "avg_insulin_studies = avg_insulin_studies[:5] + avg_insulin_studies[6:7] + avg_insulin_studies[8:9] + avg_insulin_studies[10:11] + avg_insulin_studies[12:]"
   ]
  },
  {
   "cell_type": "markdown",
   "metadata": {},
   "source": [
    "## Paired t-tests\n",
    "- Conditions: basal vs insulin\n",
    "- samples from the same patient and serum were paired together (12 vs 12)\n",
    "- If a zero abundance is present for one metabolite, its abundance in the related sample will be also removed and excluded from the paired t-tests\n",
    "- CONCERN: Small sample size (< 8) for Wilcoxon tests??\n",
    "- before multiple-testing corrections: 11 DE metabolites\n",
    "- after multiple-testing corrections: 1 DE metabolite\n",
    "- 22/08: Multiple-testing corrections not important, so therefore they are removed"
   ]
  },
  {
   "cell_type": "code",
   "execution_count": 14,
   "metadata": {
    "collapsed": true
   },
   "outputs": [],
   "source": [
    "import scipy.stats\n",
    "# FDR\n",
    "from rpy2.robjects.packages import importr\n",
    "from rpy2.robjects.vectors import FloatVector"
   ]
  },
  {
   "cell_type": "code",
   "execution_count": 15,
   "metadata": {
    "collapsed": false,
    "scrolled": true
   },
   "outputs": [
    {
     "name": "stdout",
     "output_type": "stream",
     "text": [
      "C02287 0.0113593967142\n",
      "C08261 0.0159087357872\n",
      "C01733 0.00279802703531\n",
      "C00042 0.0147943866022\n",
      "C01530 0.00275433268665\n",
      "C00022 0.02531337163\n",
      "C00164 0.00493820300943\n",
      "C00233 6.72781746514e-05\n",
      "C00302 0.0371632930231\n",
      "C16439 0.0018610671054\n",
      "C00219 0.0207659149677\n"
     ]
    },
    {
     "name": "stderr",
     "output_type": "stream",
     "text": [
      "/project/soft/linux64/anaconda/Anaconda3-2.4.1-Linux-x86_64/lib/python3.5/site-packages/numpy/core/_methods.py:82: RuntimeWarning: Degrees of freedom <= 0 for slice\n",
      "  warnings.warn(\"Degrees of freedom <= 0 for slice\", RuntimeWarning)\n"
     ]
    }
   ],
   "source": [
    "# go through one metabolite in all samples\n",
    "# do the same thing with the other condition\n",
    "# if the paired t-test is significant, add the metabolite to the DE list\n",
    "# if any zero is present in one sample, remove the related data in the other condition\n",
    "p_cutoff = 0.05\n",
    "de_metabolites = []\n",
    "all_metabolites = list(avg_basal_studies[0].getOmicsData().keys())\n",
    "for metabolite in all_metabolites:\n",
    "    b_study_paired_abun = []\n",
    "    i_study_paired_abun = []\n",
    "    for index in range(0, len(avg_basal_studies)):\n",
    "        b_study = avg_basal_studies[index]\n",
    "        i_study = avg_insulin_studies[index]\n",
    "        if b_study.getOmicsData()[metabolite] != 0.0 and i_study.getOmicsData()[metabolite] != 0.0:\n",
    "            # if neither of the abundance is zero, add the data points to the paired list\n",
    "            b_study_paired_abun.append(b_study.getOmicsData()[metabolite])\n",
    "            i_study_paired_abun.append(i_study.getOmicsData()[metabolite])\n",
    "    #print(len(b_study_paired_abun), len(i_study_paired_abun))\n",
    "    p_val = scipy.stats.ttest_rel(b_study_paired_abun, i_study_paired_abun)[1]\n",
    "    if p_val < 0.05:\n",
    "        print(metabolite, p_val)\n",
    "        de_metabolites.append(metabolite)"
   ]
  },
  {
   "cell_type": "code",
   "execution_count": null,
   "metadata": {
    "collapsed": false
   },
   "outputs": [],
   "source": [
    "de_metabolites"
   ]
  },
  {
   "cell_type": "markdown",
   "metadata": {},
   "source": [
    "## ORA\n",
    "- No significant pathways with the 11 DE metabolites input"
   ]
  },
  {
   "cell_type": "code",
   "execution_count": 16,
   "metadata": {
    "collapsed": true
   },
   "outputs": [],
   "source": [
    "kegg = KEGG()\n",
    "kegg.organism = 'hsa'"
   ]
  },
  {
   "cell_type": "code",
   "execution_count": 17,
   "metadata": {
    "collapsed": true
   },
   "outputs": [],
   "source": [
    "hsa_pathways = kegg.pathwayIds\n",
    "pathway_2_compounds = dict()\n",
    "for pathway in hsa_pathways:\n",
    "    parsed_output = kegg.parse(kegg.get(pathway)) # parsed_ouput has lots of information about the pathway\n",
    "    try:\n",
    "        compounds = set(parsed_output['COMPOUND'].keys())\n",
    "        pathway_2_compounds[pathway] = compounds\n",
    "    except KeyError: # Some pathways do not have defined compounds\n",
    "        #name = parsed_output['NAME']\n",
    "        #print(pathway, name)\n",
    "        pass"
   ]
  },
  {
   "cell_type": "code",
   "execution_count": 18,
   "metadata": {
    "collapsed": true
   },
   "outputs": [],
   "source": [
    "background_met = set(avg_basal_studies[0].getOmicsData().keys())"
   ]
  },
  {
   "cell_type": "code",
   "execution_count": 20,
   "metadata": {
    "collapsed": false
   },
   "outputs": [
    {
     "data": {
      "text/plain": [
       "([0.36631875344624687,\n",
       "  0.24596746278983564,\n",
       "  0.2073412698412665,\n",
       "  0.36631875344624687,\n",
       "  0.36631875344624687,\n",
       "  0.48359321403234107,\n",
       "  0.2073412698412665,\n",
       "  0.24596746278983564,\n",
       "  0.24596746278983564,\n",
       "  0.36631875344624687,\n",
       "  0.24596746278983564,\n",
       "  0.2073412698412665,\n",
       "  0.2073412698412665,\n",
       "  0.24596746278983564,\n",
       "  0.4293819409130483,\n",
       "  0.2073412698412665,\n",
       "  0.24596746278983564,\n",
       "  0.24596746278983564,\n",
       "  0.31049036319397116,\n",
       "  0.2073412698412665,\n",
       "  0.24596746278983564,\n",
       "  0.2073412698412665,\n",
       "  0.24596746278983564,\n",
       "  0.2073412698412665,\n",
       "  0.2073412698412665,\n",
       "  0.24596746278983564,\n",
       "  0.2073412698412665,\n",
       "  0.31049036319397116,\n",
       "  0.2073412698412665,\n",
       "  0.2073412698412665,\n",
       "  0.2073412698412665,\n",
       "  0.31049036319397116,\n",
       "  0.24596746278983564,\n",
       "  0.2073412698412665,\n",
       "  0.2073412698412665,\n",
       "  0.2073412698412665,\n",
       "  0.2073412698412665,\n",
       "  0.2073412698412665,\n",
       "  0.2073412698412665,\n",
       "  0.2073412698412665,\n",
       "  0.31049036319397116,\n",
       "  0.24596746278983564,\n",
       "  0.31049036319397116,\n",
       "  0.2073412698412665,\n",
       "  0.24596746278983564,\n",
       "  0.2073412698412665,\n",
       "  0.2073412698412665,\n",
       "  0.24596746278983564,\n",
       "  0.2073412698412665,\n",
       "  0.24596746278983564,\n",
       "  0.24596746278983564,\n",
       "  0.24596746278983564,\n",
       "  0.2073412698412665,\n",
       "  0.2073412698412665,\n",
       "  0.2073412698412665,\n",
       "  0.2073412698412665,\n",
       "  0.282753331562047],\n",
       " ['path:hsa00010',\n",
       "  'path:hsa00020',\n",
       "  'path:hsa00030',\n",
       "  'path:hsa00040',\n",
       "  'path:hsa00053',\n",
       "  'path:hsa00061',\n",
       "  'path:hsa00072',\n",
       "  'path:hsa00190',\n",
       "  'path:hsa00250',\n",
       "  'path:hsa00260',\n",
       "  'path:hsa00270',\n",
       "  'path:hsa00280',\n",
       "  'path:hsa00290',\n",
       "  'path:hsa00310',\n",
       "  'path:hsa00330',\n",
       "  'path:hsa00350',\n",
       "  'path:hsa00360',\n",
       "  'path:hsa00430',\n",
       "  'path:hsa00440',\n",
       "  'path:hsa00590',\n",
       "  'path:hsa00591',\n",
       "  'path:hsa00620',\n",
       "  'path:hsa00630',\n",
       "  'path:hsa00640',\n",
       "  'path:hsa00650',\n",
       "  'path:hsa00730',\n",
       "  'path:hsa00760',\n",
       "  'path:hsa00770',\n",
       "  'path:hsa00900',\n",
       "  'path:hsa00920',\n",
       "  'path:hsa01040',\n",
       "  'path:hsa04024',\n",
       "  'path:hsa04066',\n",
       "  'path:hsa04152',\n",
       "  'path:hsa04216',\n",
       "  'path:hsa04217',\n",
       "  'path:hsa04270',\n",
       "  'path:hsa04611',\n",
       "  'path:hsa04664',\n",
       "  'path:hsa04666',\n",
       "  'path:hsa04723',\n",
       "  'path:hsa04726',\n",
       "  'path:hsa04727',\n",
       "  'path:hsa04730',\n",
       "  'path:hsa04750',\n",
       "  'path:hsa04911',\n",
       "  'path:hsa04912',\n",
       "  'path:hsa04913',\n",
       "  'path:hsa04921',\n",
       "  'path:hsa04922',\n",
       "  'path:hsa04923',\n",
       "  'path:hsa04925',\n",
       "  'path:hsa04930',\n",
       "  'path:hsa04931',\n",
       "  'path:hsa05140',\n",
       "  'path:hsa05146',\n",
       "  'path:hsa05230'],\n",
       " [4,\n",
       "  7,\n",
       "  1,\n",
       "  4,\n",
       "  4,\n",
       "  6,\n",
       "  1,\n",
       "  2,\n",
       "  7,\n",
       "  4,\n",
       "  2,\n",
       "  2,\n",
       "  4,\n",
       "  2,\n",
       "  5,\n",
       "  9,\n",
       "  7,\n",
       "  2,\n",
       "  3,\n",
       "  1,\n",
       "  2,\n",
       "  5,\n",
       "  7,\n",
       "  4,\n",
       "  10,\n",
       "  2,\n",
       "  5,\n",
       "  3,\n",
       "  1,\n",
       "  1,\n",
       "  5,\n",
       "  3,\n",
       "  2,\n",
       "  1,\n",
       "  1,\n",
       "  1,\n",
       "  1,\n",
       "  1,\n",
       "  1,\n",
       "  1,\n",
       "  3,\n",
       "  2,\n",
       "  3,\n",
       "  1,\n",
       "  2,\n",
       "  1,\n",
       "  1,\n",
       "  2,\n",
       "  1,\n",
       "  7,\n",
       "  2,\n",
       "  2,\n",
       "  1,\n",
       "  1,\n",
       "  1,\n",
       "  1,\n",
       "  9])"
      ]
     },
     "execution_count": 20,
     "metadata": {},
     "output_type": "execute_result"
    }
   ],
   "source": [
    "ora_msc.oras_allpaths(set(de_metabolites), hsa_pathways, background_met, pathway_2_compounds, True, False, 0, [])"
   ]
  },
  {
   "cell_type": "markdown",
   "metadata": {},
   "source": [
    "## Conversion: Chebi to KEGG"
   ]
  },
  {
   "cell_type": "code",
   "execution_count": 2,
   "metadata": {
    "collapsed": true
   },
   "outputs": [],
   "source": [
    "from bioservices import KEGG, ChEBI\n",
    "import ora_msc"
   ]
  },
  {
   "cell_type": "code",
   "execution_count": 3,
   "metadata": {
    "collapsed": false
   },
   "outputs": [],
   "source": [
    "ch = ChEBI()"
   ]
  },
  {
   "cell_type": "code",
   "execution_count": 4,
   "metadata": {
    "collapsed": true
   },
   "outputs": [],
   "source": [
    "def conv_chebi_kegg(chebi_id, chebi_instance):\n",
    "    '''\n",
    "    converting chebi ids to kegg ids\n",
    "    if the chebi entry does not have database links\n",
    "    return the ascii name of that entry\n",
    "    '''\n",
    "    res = chebi_instance.getCompleteEntity(chebi_id)\n",
    "    try:\n",
    "        for link in res.DatabaseLinks:\n",
    "            if link.type == 'KEGG COMPOUND accession':\n",
    "                kegg_id = link.data\n",
    "                return kegg_id\n",
    "    except AttributeError:\n",
    "        pass\n",
    "    return res.chebiAsciiName\n",
    "\n",
    "def avg_replicates_study(repstudies):\n",
    "    '''\n",
    "    Only works when there are exactly two replicates\n",
    "    Must sort the input list by patient id first!!!\n",
    "    '''\n",
    "    avg_studies = []\n",
    "    for i in range(0, len(repstudies), 2):\n",
    "        study_rep1 = repstudies[i]\n",
    "        study_rep2 = repstudies[i+1]\n",
    "        study_avg = study_rep1.avgOmicsData(study_rep2)\n",
    "        avg_studies.append(study_avg)\n",
    "    return avg_studies"
   ]
  }
 ],
 "metadata": {
  "anaconda-cloud": {},
  "kernelspec": {
   "display_name": "Python 3",
   "language": "python",
   "name": "python3"
  },
  "language_info": {
   "codemirror_mode": {
    "name": "ipython",
    "version": 3
   },
   "file_extension": ".py",
   "mimetype": "text/x-python",
   "name": "python",
   "nbconvert_exporter": "python",
   "pygments_lexer": "ipython3",
   "version": "3.5.1"
  }
 },
 "nbformat": 4,
 "nbformat_minor": 1
}
