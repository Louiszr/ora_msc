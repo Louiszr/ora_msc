{
 "cells": [
  {
   "cell_type": "markdown",
   "metadata": {},
   "source": [
    "# New dataset for abundance analysis"
   ]
  },
  {
   "cell_type": "markdown",
   "metadata": {},
   "source": [
    "## Things to do\n",
    "* Separate samples into insulin/basal\n",
    "* For abundance cut-offs, averages the metabolite abundance across samples in the same group\n",
    "* For DE list, use paired t-tests to determine DE metabolites. Beware of the zeros.\n",
    "* Check how long the list is\n",
    "\n",
    "### Next step: paired t-tests"
   ]
  },
  {
   "cell_type": "markdown",
   "metadata": {},
   "source": [
    "## class definition of a sample"
   ]
  },
  {
   "cell_type": "code",
   "execution_count": 87,
   "metadata": {
    "collapsed": true
   },
   "outputs": [],
   "source": [
    "class MetabolomicsSample:\n",
    "    def __init__(self, sample_id, liver_fat, infusion, serum, patient_id):\n",
    "        '''\n",
    "        id, liver fat, insulin infusion, serum type, patient, compound:abundance\n",
    "        '''\n",
    "        self.sample_id = sample_id\n",
    "        self.liver_fat = liver_fat\n",
    "        self.infusion = infusion\n",
    "        self.serum = serum\n",
    "        self.patient_id = patient_id\n",
    "        self._data = dict()\n",
    "    \n",
    "    def __repr__(self):\n",
    "        return self.sample_id\n",
    "    \n",
    "    def getSampleInfo(self):\n",
    "        print(self.sample_id)\n",
    "        print(\"Liver fat(percentage):\", self.liver_fat)\n",
    "        print(\"Insulin infusion: \" + self.infusion)\n",
    "        print(\"Serum type: \" + self.serum)\n",
    "        print(\"Patient id: \" + self.patient_id)\n",
    "    \n",
    "    def addOmicsData(self, metabolite_id, value):\n",
    "        '''\n",
    "        Find the existing entry of the metabolite in the data dictionary, add value to the existing entry\n",
    "        If no existing entry can be found, create an entry for the metabolite\n",
    "        Values have to be in float!!\n",
    "        '''\n",
    "        if not isinstance(value, float):\n",
    "            print(\"Data values must be floats\")\n",
    "            return 0\n",
    "        self._data[metabolite_id] = self._data.get(metabolite_id, 0) + value\n",
    "        \n",
    "    def getOmicsData(self):\n",
    "        return self._data\n",
    "    \n",
    "    def clearOmicsData(self):\n",
    "        self._data = dict()\n",
    "        \n",
    "    def avgOmicsData(self, replicate):\n",
    "        '''\n",
    "        Average the omics data from two replicates\n",
    "        Return with a new object that has the average omics data\n",
    "        ***If one replicate has 0 for a metabolite, the average will be 0\n",
    "        \n",
    "        Could potentially add an attribute that states whether a study has been averaged or not\n",
    "        '''\n",
    "        if not isinstance(replicate, MetabolomicsSample):\n",
    "            print(\"Replicate must be a MetabolomicsSample sample\")\n",
    "            return 0\n",
    "        elif (replicate.liver_fat != self.liver_fat or \n",
    "              replicate.infusion != self.infusion or \n",
    "              replicate.serum != self.serum or \n",
    "              replicate.patient_id != self.patient_id):\n",
    "            print(\"Study info do not match\")\n",
    "            return 0\n",
    "        mean_study = MetabolomicsSample(self.sample_id, self.liver_fat, \n",
    "                                        self.infusion, self.serum, self.patient_id)\n",
    "        for metabolite in self.getOmicsData():\n",
    "            if self.getOmicsData()[metabolite] == 0 or replicate.getOmicsData()[metabolite] == 0:\n",
    "                avg_abundance = 0.0\n",
    "            else:\n",
    "                avg_abundance = (self.getOmicsData()[metabolite] + replicate.getOmicsData()[metabolite]) / 2\n",
    "            mean_study.addOmicsData(metabolite, avg_abundance)\n",
    "        return mean_study"
   ]
  },
  {
   "cell_type": "markdown",
   "metadata": {},
   "source": [
    "## MTBLS298\n",
    "242 Unique Chebi IDs"
   ]
  },
  {
   "cell_type": "code",
   "execution_count": 10,
   "metadata": {
    "collapsed": true
   },
   "outputs": [],
   "source": [
    "directory = '/data/zx2313/MTBLS298/' # The location of the maf file\n",
    "maf = directory + 'm_catheterization_study_metabolite_profiling_mass_spectrometry_v2_maf.tsv'\n",
    "sample_info = directory + 's_Catheterization study.txt'"
   ]
  },
  {
   "cell_type": "code",
   "execution_count": 88,
   "metadata": {
    "collapsed": false,
    "scrolled": true
   },
   "outputs": [],
   "source": [
    "# Initialise metabolomics samples\n",
    "met_studies = []\n",
    "with open(sample_info, 'r') as fh:\n",
    "    for line in fh.readlines()[1:]:\n",
    "        fields = line.rstrip().split('\\t')\n",
    "        sample_id = fields[8][1:-1]\n",
    "        liver_fat = int(fields[9][1:-1])\n",
    "        infusion = fields[16][1:-1]\n",
    "        serum = fields[19][1:-1]\n",
    "        patient_id = fields[22][1:-1]\n",
    "        met_studies.append(MetabolomicsSample(sample_id, liver_fat, infusion, serum, patient_id))"
   ]
  },
  {
   "cell_type": "code",
   "execution_count": null,
   "metadata": {
    "collapsed": false,
    "scrolled": true
   },
   "outputs": [],
   "source": [
    "for i in range(0, len(met_studies)):\n",
    "    print(len(met_studies[i].getOmicsData()))"
   ]
  },
  {
   "cell_type": "code",
   "execution_count": null,
   "metadata": {
    "collapsed": false
   },
   "outputs": [],
   "source": [
    "print(met_studies)"
   ]
  },
  {
   "cell_type": "code",
   "execution_count": 89,
   "metadata": {
    "collapsed": false,
    "scrolled": true
   },
   "outputs": [],
   "source": [
    "with open(maf, 'r') as fh:\n",
    "    study_indices = []\n",
    "    lines = fh.readlines()\n",
    "    for line in lines[0:1]:\n",
    "        fields = line.rstrip().split('\\t')\n",
    "        #print(fields[0], fields[4], fields[11], fields[14], fields[16], fields[17], fields[21:81])# 0 4 11 14 16 17 21-80\n",
    "        for field in fields[21:81]:\n",
    "            sample_id = field[1:-5]\n",
    "            for index in range(0, len(met_studies)):\n",
    "                study = met_studies[index]\n",
    "                if sample_id == study.sample_id:\n",
    "                    study_indices.append(index)\n",
    "                    \n",
    "    for line in lines[1:]:\n",
    "        fields = line.rstrip().split('\\t')\n",
    "        database_id = fields[0][1:-1]\n",
    "        if not database_id.startswith('CHEBI'):\n",
    "            continue # If the metabolite is not chebi, go to the next line\n",
    "        else:\n",
    "            converted_id = conv_chebi_kegg(database_id, ch)\n",
    "        if not (converted_id.startswith('C') and len(converted_id) == 6):\n",
    "            continue # If the converted id is not kegg, go to the next line\n",
    "        for index in range(21, 81): #fields[21:81]:\n",
    "            study_index = study_indices[index - 21]\n",
    "            omics_value = float(fields[index][1:-1])\n",
    "            met_studies[study_index].addOmicsData(converted_id, omics_value)"
   ]
  },
  {
   "cell_type": "code",
   "execution_count": 90,
   "metadata": {
    "collapsed": true
   },
   "outputs": [],
   "source": [
    "met_studies.sort(key = lambda x: x.patient_id)"
   ]
  },
  {
   "cell_type": "code",
   "execution_count": 107,
   "metadata": {
    "collapsed": false,
    "scrolled": true
   },
   "outputs": [],
   "source": [
    "basal_studies = []\n",
    "insulin_studies = []\n",
    "for study in met_studies:\n",
    "    if study.infusion == 'Basal' and study.serum == 'Artery':\n",
    "        basal_studies.append(study)\n",
    "    elif study.infusion == 'Insulin' and study.serum == 'Artery':\n",
    "        insulin_studies.append(study)"
   ]
  },
  {
   "cell_type": "code",
   "execution_count": 117,
   "metadata": {
    "collapsed": false
   },
   "outputs": [],
   "source": [
    "avg_basal_studies = avg_replicates_study(basal_studies)\n",
    "avg_insulin_studies = avg_replicates_study(insulin_studies)"
   ]
  },
  {
   "cell_type": "code",
   "execution_count": 119,
   "metadata": {
    "collapsed": false
   },
   "outputs": [
    {
     "data": {
      "text/plain": [
       "[112Vein_pl03_GGT3_rep1run1_291009_1,\n",
       " 112Vein_pl07_GGT3_rep1run1_291009_1,\n",
       " 112Vein_pl11_GGT3_rep1run1_291009_1,\n",
       " 112Vein_pl15_GGT3_rep1run1_291009_1,\n",
       " 112Vein_pl19_GGT3_rep1run1_291009_1,\n",
       " 112Vein_pl23_GGT3_rep1run1_291009_1,\n",
       " 112Vein_pl31_GGT3_rep1run1_291009_1,\n",
       " 112Vein_pl35_GGT3_rep1run1_291009_1]"
      ]
     },
     "execution_count": 119,
     "metadata": {},
     "output_type": "execute_result"
    }
   ],
   "source": [
    "avg_insulin_studies"
   ]
  },
  {
   "cell_type": "markdown",
   "metadata": {},
   "source": [
    "## Conversion: Chebi to KEGG"
   ]
  },
  {
   "cell_type": "code",
   "execution_count": 5,
   "metadata": {
    "collapsed": true
   },
   "outputs": [],
   "source": [
    "from bioservices import KEGG, ChEBI"
   ]
  },
  {
   "cell_type": "code",
   "execution_count": 6,
   "metadata": {
    "collapsed": false
   },
   "outputs": [
    {
     "name": "stdout",
     "output_type": "stream",
     "text": [
      "Creating directory /project/homemsc/zx2313/.cache/bioservices \n",
      "Welcome to Bioservices\n",
      "======================\n",
      "It looks like you do not have a configuration file.\n",
      "We are creating one with default values in /project/homemsc/zx2313/.config/bioservices/bioservices.cfg .\n",
      "Done\n"
     ]
    }
   ],
   "source": [
    "ch = ChEBI()"
   ]
  },
  {
   "cell_type": "code",
   "execution_count": 115,
   "metadata": {
    "collapsed": true
   },
   "outputs": [],
   "source": [
    "def conv_chebi_kegg(chebi_id, chebi_instance):\n",
    "    '''\n",
    "    converting chebi ids to kegg ids\n",
    "    if the chebi entry does not have database links\n",
    "    return the ascii name of that entry\n",
    "    '''\n",
    "    res = chebi_instance.getCompleteEntity(chebi_id)\n",
    "    try:\n",
    "        for link in res.DatabaseLinks:\n",
    "            if link.type == 'KEGG COMPOUND accession':\n",
    "                kegg_id = link.data\n",
    "                return kegg_id\n",
    "    except AttributeError:\n",
    "        pass\n",
    "    return res.chebiAsciiName\n",
    "\n",
    "def avg_replicates_study(repstudies):\n",
    "    '''\n",
    "    Only works when there are exactly two replicates\n",
    "    Must sort the input list by patient id first!!!\n",
    "    '''\n",
    "    avg_studies = []\n",
    "    for i in range(0, len(repstudies), 2):\n",
    "        study_rep1 = repstudies[i]\n",
    "        study_rep2 = repstudies[i+1]\n",
    "        study_avg = study_rep1.avgOmicsData(study_rep2)\n",
    "        avg_studies.append(study_avg)\n",
    "    return avg_studies"
   ]
  }
 ],
 "metadata": {
  "anaconda-cloud": {},
  "kernelspec": {
   "display_name": "Python 3",
   "language": "python",
   "name": "python3"
  },
  "language_info": {
   "codemirror_mode": {
    "name": "ipython",
    "version": 3
   },
   "file_extension": ".py",
   "mimetype": "text/x-python",
   "name": "python",
   "nbconvert_exporter": "python",
   "pygments_lexer": "ipython3",
   "version": "3.5.1"
  }
 },
 "nbformat": 4,
 "nbformat_minor": 1
}
