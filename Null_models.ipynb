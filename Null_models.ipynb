{
 "cells": [
  {
   "cell_type": "code",
   "execution_count": 1,
   "metadata": {
    "collapsed": false
   },
   "outputs": [],
   "source": [
    "from bioservices.kegg import KEGG\n",
    "import numpy as np\n",
    "import matplotlib.pyplot as plt\n",
    "import readline\n",
    "import random\n",
    "# FDR\n",
    "from rpy2.robjects.packages import importr\n",
    "from rpy2.robjects.vectors import FloatVector\n",
    "# Hypergeom\n",
    "from scipy.stats import hypergeom\n",
    "# LogNorm color scheme\n",
    "import matplotlib.colors as colors\n",
    "# Combinations\n",
    "from itertools import combinations\n",
    "\n",
    "# ORA_msc\n",
    "import ora_msc"
   ]
  },
  {
   "cell_type": "markdown",
   "metadata": {},
   "source": [
    "### Preparation for the analysis"
   ]
  },
  {
   "cell_type": "code",
   "execution_count": 2,
   "metadata": {
    "collapsed": false
   },
   "outputs": [],
   "source": [
    "# Stating the annotation files & modzscore files\n",
    "DATA_PATH = '/data/zx2313/Zamboni/'\n",
    "\n",
    "pos_annot = DATA_PATH + 'annotation_pos.txt'\n",
    "pos_mod = DATA_PATH + 'modzscore_pos_annotated.tsv'\n",
    "neg_annot = DATA_PATH + 'annotation_neg.txt'\n",
    "neg_mod = DATA_PATH + 'modzscore_neg_annotated.tsv'\n",
    "# Initialise KEGG instance\n",
    "kegg = KEGG()\n",
    "kegg.organism = \"eco\"\n",
    "# Initialise both backgrounds\n",
    "test_compounds = ora_msc.get_all_compounds('eco')\n",
    "zamboni_bg = ora_msc.loadTsv(DATA_PATH + 'annotation_all.txt')\n",
    "zamboni_bg = zamboni_bg & test_compounds\n",
    "# build {pathway: compounds} dictionary for E.coli\n",
    "ecoli_pathways = kegg.pathwayIds\n",
    "pathway_2_compounds = dict()\n",
    "for pathway in ecoli_pathways:\n",
    "    parsed_output = kegg.parse(kegg.get(pathway)) # parsed_ouput has lots of information about the pathway\n",
    "    try:\n",
    "        compounds = set(parsed_output['COMPOUND'].keys())\n",
    "        pathway_2_compounds[pathway] = compounds\n",
    "    except KeyError: # Some pathways do not have defined compounds\n",
    "        #name = parsed_output['NAME']\n",
    "        #print(pathway, name)\n",
    "        pass"
   ]
  },
  {
   "cell_type": "code",
   "execution_count": null,
   "metadata": {
    "collapsed": true
   },
   "outputs": [],
   "source": [
    "# Translate KO number to gene name\n",
    "sample_id_all = DATA_PATH + 'sample_id_modzscore.tsv'\n",
    "all_knockouts = []# End product\n",
    "fh_sample_id_all = open(sample_id_all, 'r')\n",
    "for knockout in fh_sample_id_all:\n",
    "    all_knockouts.append(knockout.rstrip())\n",
    "fh_sample_id_all.close()\n",
    "#print(all_knockouts)"
   ]
  },
  {
   "cell_type": "markdown",
   "metadata": {},
   "source": [
    "### Making null models"
   ]
  },
  {
   "cell_type": "code",
   "execution_count": 6,
   "metadata": {
    "collapsed": false
   },
   "outputs": [],
   "source": [
    "for i in range(0, 100):\n",
    "    filename = ('./null_models/nonoverlap/' + \n",
    "                'model' + str(i) + '.tsv')\n",
    "    null_model = ora_msc.make_null_model(pathway_2_compounds, list(test_compounds), False)\n",
    "    ora_msc.save_null_model(null_model, filename)\n",
    "    #print(null_model['path:eco00010'])"
   ]
  },
  {
   "cell_type": "markdown",
   "metadata": {},
   "source": [
    "### Getting results from the null models"
   ]
  },
  {
   "cell_type": "code",
   "execution_count": null,
   "metadata": {
    "collapsed": true
   },
   "outputs": [],
   "source": [
    "sig_count = 0\n",
    "for ko_number in range(0, len(all_knockouts)):\n",
    "    nullmod_pval, nullmod_pathway_id, nullmod_sizes = oras_ko(ko_number, ecoli_pathways, zamboni_bg, null_model, \n",
    "                        pos_annot, pos_mod, neg_annot, neg_mod, 2, False, False, 0, [])\n",
    "    for i in nullmod_pval:\n",
    "        if i < 0.05:\n",
    "            sig_count += 1\n",
    "print(sig_count)"
   ]
  }
 ],
 "metadata": {
  "kernelspec": {
   "display_name": "Python 3",
   "language": "python",
   "name": "python3"
  },
  "language_info": {
   "codemirror_mode": {
    "name": "ipython",
    "version": 3
   },
   "file_extension": ".py",
   "mimetype": "text/x-python",
   "name": "python",
   "nbconvert_exporter": "python",
   "pygments_lexer": "ipython3",
   "version": "3.5.1"
  }
 },
 "nbformat": 4,
 "nbformat_minor": 2
}
